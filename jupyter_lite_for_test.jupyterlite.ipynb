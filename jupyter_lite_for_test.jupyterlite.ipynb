{
  "metadata": {
    "kernelspec": {
      "name": "python",
      "display_name": "Python (Pyodide)",
      "language": "python"
    },
    "language_info": {
      "codemirror_mode": {
        "name": "python",
        "version": 3
      },
      "file_extension": ".py",
      "mimetype": "text/x-python",
      "name": "python",
      "nbconvert_exporter": "python",
      "pygments_lexer": "ipython3",
      "version": "3.8"
    }
  },
  "nbformat_minor": 4,
  "nbformat": 4,
  "cells": [
    {
      "cell_type": "markdown",
      "source": "<p style=\"text-align:center\">\n    <a href=\"https://skills.network\" target=\"_blank\">\n    <img src=\"https://cf-courses-data.s3.us.cloud-object-storage.appdomain.cloud/assets/logos/SN_web_lightmode.png\" width=\"300\" alt=\"Skills Network Logo\">\n    </a>\n</p>\n",
      "metadata": {}
    },
    {
      "cell_type": "markdown",
      "source": "# Test Environment for Generative AI classroom labs\n\nThis lab provides a test environment for the codes generated using the Generative AI classroom.\n\nFollow the instructions below to set up this environment for further use.\n",
      "metadata": {}
    },
    {
      "cell_type": "markdown",
      "source": "# Setup\n",
      "metadata": {}
    },
    {
      "cell_type": "markdown",
      "source": "### Install required libraries\n\nIn case of a requirement of installing certain python libraries for use in your task, you may do so as shown below.\n",
      "metadata": {}
    },
    {
      "cell_type": "code",
      "source": "%pip install seaborn\nimport piplite\n\nawait piplite.install(['nbformat', 'plotly'])",
      "metadata": {
        "trusted": true
      },
      "outputs": [],
      "execution_count": 1
    },
    {
      "cell_type": "markdown",
      "source": "### Dataset URL from the GenAI lab\nUse the URL provided in the GenAI lab in the cell below. \n",
      "metadata": {}
    },
    {
      "cell_type": "code",
      "source": "URL = \"https://cf-courses-data.s3.us.cloud-object-storage.appdomain.cloud/IBMDeveloperSkillsNetwork-DA0101EN-Coursera/laptop_pricing_dataset_mod1.csv\"",
      "metadata": {
        "trusted": true
      },
      "outputs": [],
      "execution_count": 2
    },
    {
      "cell_type": "markdown",
      "source": "### Downloading the dataset\n\nExecute the following code to download the dataset in to the interface.\n\n> Please note that this step is essential in JupyterLite. If you are using a downloaded version of this notebook and running it on JupyterLabs, then you can skip this step and directly use the URL in pandas.read_csv() function to read the dataset as a dataframe\n",
      "metadata": {}
    },
    {
      "cell_type": "code",
      "source": "from pyodide.http import pyfetch\n\nasync def download(url, filename):\n    response = await pyfetch(url)\n    if response.status == 200:\n        with open(filename, \"wb\") as f:\n            f.write(await response.bytes())\n\npath = URL\n\nawait download(path, \"dataset.csv\")",
      "metadata": {
        "trusted": true
      },
      "outputs": [],
      "execution_count": 3
    },
    {
      "cell_type": "markdown",
      "source": "---\n",
      "metadata": {}
    },
    {
      "cell_type": "markdown",
      "source": "# Test Environment\n",
      "metadata": {}
    },
    {
      "cell_type": "code",
      "source": "# Keep appending the code generated to this cell, or add more cells below this to execute in parts\nimport pandas as pd\n\n# Specify the file path\nfile_path = \"dataset.csv\"\n\n# Read the CSV file into a Pandas data frame\ndf = pd.read_csv(file_path)\n\n# Display the data frame\nprint(df)",
      "metadata": {
        "trusted": true
      },
      "outputs": [
        {
          "name": "stdout",
          "text": "     Unnamed: 0 Manufacturer  Category     Screen  GPU  OS  CPU_core  \\\n0             0         Acer         4  IPS Panel    2   1         5   \n1             1         Dell         3    Full HD    1   1         3   \n2             2         Dell         3    Full HD    1   1         7   \n3             3         Dell         4  IPS Panel    2   1         5   \n4             4           HP         4    Full HD    2   1         7   \n..          ...          ...       ...        ...  ...  ..       ...   \n233         233       Lenovo         4  IPS Panel    2   1         7   \n234         234      Toshiba         3    Full HD    2   1         5   \n235         235       Lenovo         4  IPS Panel    2   1         5   \n236         236       Lenovo         3    Full HD    3   1         5   \n237         237      Toshiba         3    Full HD    2   1         5   \n\n     Screen_Size_cm  CPU_frequency  RAM_GB  Storage_GB_SSD  Weight_kg  Price  \n0            35.560            1.6       8             256       1.60    978  \n1            39.624            2.0       4             256       2.20    634  \n2            39.624            2.7       8             256       2.20    946  \n3            33.782            1.6       8             128       1.22   1244  \n4            39.624            1.8       8             256       1.91    837  \n..              ...            ...     ...             ...        ...    ...  \n233          35.560            2.6       8             256       1.70   1891  \n234          33.782            2.4       8             256       1.20   1950  \n235          30.480            2.6       8             256       1.36   2236  \n236          39.624            2.5       6             256       2.40    883  \n237          35.560            2.3       8             256       1.95   1499  \n\n[238 rows x 13 columns]\n",
          "output_type": "stream"
        }
      ],
      "execution_count": 7
    },
    {
      "cell_type": "code",
      "source": "columns_with_missing_values = df.columns[df.isnull().any()].tolist()\nprint(\"Columns with missing values:\", columns_with_missing_values)",
      "metadata": {
        "trusted": true
      },
      "outputs": [
        {
          "name": "stdout",
          "text": "Columns with missing values: ['Screen_Size_cm', 'Weight_kg']\n",
          "output_type": "stream"
        }
      ],
      "execution_count": 9
    },
    {
      "cell_type": "code",
      "source": "most_frequent_screen_size = df['Screen_Size_cm'].mode()[0]\ndf['Screen_Size_cm'].fillna(most_frequent_screen_size, inplace=True)",
      "metadata": {
        "trusted": true
      },
      "outputs": [
        {
          "name": "stderr",
          "text": "<ipython-input-10-9fd0186309fe>:2: FutureWarning: A value is trying to be set on a copy of a DataFrame or Series through chained assignment using an inplace method.\nThe behavior will change in pandas 3.0. This inplace method will never work because the intermediate object on which we are setting values always behaves as a copy.\n\nFor example, when doing 'df[col].method(value, inplace=True)', try using 'df.method({col: value}, inplace=True)' or df[col] = df[col].method(value) instead, to perform the operation inplace on the original object.\n\n\n  df['Screen_Size_cm'].fillna(most_frequent_screen_size, inplace=True)\n",
          "output_type": "stream"
        }
      ],
      "execution_count": 10
    },
    {
      "cell_type": "code",
      "source": "mean_weight = df['Weight_kg'].mean()\ndf['Weight_kg'].fillna(mean_weight, inplace=True)",
      "metadata": {
        "trusted": true
      },
      "outputs": [
        {
          "name": "stderr",
          "text": "<ipython-input-11-71b3437a3074>:2: FutureWarning: A value is trying to be set on a copy of a DataFrame or Series through chained assignment using an inplace method.\nThe behavior will change in pandas 3.0. This inplace method will never work because the intermediate object on which we are setting values always behaves as a copy.\n\nFor example, when doing 'df[col].method(value, inplace=True)', try using 'df.method({col: value}, inplace=True)' or df[col] = df[col].method(value) instead, to perform the operation inplace on the original object.\n\n\n  df['Weight_kg'].fillna(mean_weight, inplace=True)\n",
          "output_type": "stream"
        }
      ],
      "execution_count": 11
    },
    {
      "cell_type": "code",
      "source": "print(df)",
      "metadata": {
        "trusted": true
      },
      "outputs": [
        {
          "name": "stdout",
          "text": "     Unnamed: 0 Manufacturer  Category     Screen  GPU  OS  CPU_core  \\\n0             0         Acer         4  IPS Panel    2   1         5   \n1             1         Dell         3    Full HD    1   1         3   \n2             2         Dell         3    Full HD    1   1         7   \n3             3         Dell         4  IPS Panel    2   1         5   \n4             4           HP         4    Full HD    2   1         7   \n..          ...          ...       ...        ...  ...  ..       ...   \n233         233       Lenovo         4  IPS Panel    2   1         7   \n234         234      Toshiba         3    Full HD    2   1         5   \n235         235       Lenovo         4  IPS Panel    2   1         5   \n236         236       Lenovo         3    Full HD    3   1         5   \n237         237      Toshiba         3    Full HD    2   1         5   \n\n     Screen_Size_cm  CPU_frequency  RAM_GB  Storage_GB_SSD  Weight_kg  Price  \n0            35.560            1.6       8             256       1.60    978  \n1            39.624            2.0       4             256       2.20    634  \n2            39.624            2.7       8             256       2.20    946  \n3            33.782            1.6       8             128       1.22   1244  \n4            39.624            1.8       8             256       1.91    837  \n..              ...            ...     ...             ...        ...    ...  \n233          35.560            2.6       8             256       1.70   1891  \n234          33.782            2.4       8             256       1.20   1950  \n235          30.480            2.6       8             256       1.36   2236  \n236          39.624            2.5       6             256       2.40    883  \n237          35.560            2.3       8             256       1.95   1499  \n\n[238 rows x 13 columns]\n",
          "output_type": "stream"
        }
      ],
      "execution_count": 12
    },
    {
      "cell_type": "code",
      "source": "columns_with_missing_values = df.columns[df.isnull().any()].tolist()\nprint(\"Columns with missing values:\", columns_with_missing_values)",
      "metadata": {
        "trusted": true
      },
      "outputs": [
        {
          "name": "stdout",
          "text": "Columns with missing values: []\n",
          "output_type": "stream"
        }
      ],
      "execution_count": 13
    },
    {
      "cell_type": "code",
      "source": "df['Screen_Size_cm'] = df['Screen_Size_cm'].astype(float)\ndf['Weight_kg'] = df['Weight_kg'].astype(float)\nprint(df)",
      "metadata": {
        "trusted": true
      },
      "outputs": [
        {
          "name": "stdout",
          "text": "     Unnamed: 0 Manufacturer  Category     Screen  GPU  OS  CPU_core  \\\n0             0         Acer         4  IPS Panel    2   1         5   \n1             1         Dell         3    Full HD    1   1         3   \n2             2         Dell         3    Full HD    1   1         7   \n3             3         Dell         4  IPS Panel    2   1         5   \n4             4           HP         4    Full HD    2   1         7   \n..          ...          ...       ...        ...  ...  ..       ...   \n233         233       Lenovo         4  IPS Panel    2   1         7   \n234         234      Toshiba         3    Full HD    2   1         5   \n235         235       Lenovo         4  IPS Panel    2   1         5   \n236         236       Lenovo         3    Full HD    3   1         5   \n237         237      Toshiba         3    Full HD    2   1         5   \n\n     Screen_Size_cm  CPU_frequency  RAM_GB  Storage_GB_SSD  Weight_kg  Price  \n0            35.560            1.6       8             256       1.60    978  \n1            39.624            2.0       4             256       2.20    634  \n2            39.624            2.7       8             256       2.20    946  \n3            33.782            1.6       8             128       1.22   1244  \n4            39.624            1.8       8             256       1.91    837  \n..              ...            ...     ...             ...        ...    ...  \n233          35.560            2.6       8             256       1.70   1891  \n234          33.782            2.4       8             256       1.20   1950  \n235          30.480            2.6       8             256       1.36   2236  \n236          39.624            2.5       6             256       2.40    883  \n237          35.560            2.3       8             256       1.95   1499  \n\n[238 rows x 13 columns]\n",
          "output_type": "stream"
        }
      ],
      "execution_count": 14
    },
    {
      "cell_type": "code",
      "source": "# Convert 'Screen_Size_cm' from centimeters to inches\ndf['Screen_Size_inch'] = df['Screen_Size_cm'] * 0.393701\n\n# Rename the attribute 'Screen_Size_cm' to 'Screen_Size_inch'\ndf.drop('Screen_Size_cm', axis=1, inplace=True)\n\n# Convert 'Weight_kg' from kilograms to pounds\ndf['Weight_pounds'] = df['Weight_kg'] * 2.20462\n\n# Rename the attribute 'Weight_kg' to 'Weight_pounds'\ndf.drop('Weight_kg', axis=1, inplace=True)\n\n# Display the updated data frame with the modified attributes\nprint(df)",
      "metadata": {
        "trusted": true
      },
      "outputs": [
        {
          "name": "stdout",
          "text": "     Unnamed: 0 Manufacturer  Category     Screen  GPU  OS  CPU_core  \\\n0             0         Acer         4  IPS Panel    2   1         5   \n1             1         Dell         3    Full HD    1   1         3   \n2             2         Dell         3    Full HD    1   1         7   \n3             3         Dell         4  IPS Panel    2   1         5   \n4             4           HP         4    Full HD    2   1         7   \n..          ...          ...       ...        ...  ...  ..       ...   \n233         233       Lenovo         4  IPS Panel    2   1         7   \n234         234      Toshiba         3    Full HD    2   1         5   \n235         235       Lenovo         4  IPS Panel    2   1         5   \n236         236       Lenovo         3    Full HD    3   1         5   \n237         237      Toshiba         3    Full HD    2   1         5   \n\n     CPU_frequency  RAM_GB  Storage_GB_SSD  Price  Screen_Size_inch  \\\n0              1.6       8             256    978         14.000008   \n1              2.0       4             256    634         15.600008   \n2              2.7       8             256    946         15.600008   \n3              1.6       8             128   1244         13.300007   \n4              1.8       8             256    837         15.600008   \n..             ...     ...             ...    ...               ...   \n233            2.6       8             256   1891         14.000008   \n234            2.4       8             256   1950         13.300007   \n235            2.6       8             256   2236         12.000006   \n236            2.5       6             256    883         15.600008   \n237            2.3       8             256   1499         14.000008   \n\n     Weight_pounds  \n0         3.527392  \n1         4.850164  \n2         4.850164  \n3         2.689636  \n4         4.210824  \n..             ...  \n233       3.747854  \n234       2.645544  \n235       2.998283  \n236       5.291088  \n237       4.299009  \n\n[238 rows x 13 columns]\n",
          "output_type": "stream"
        }
      ],
      "execution_count": 15
    },
    {
      "cell_type": "code",
      "source": "# Normalize the 'CPU_frequency' values by dividing each value by the maximum value\nmax_cpu_frequency = df['CPU_frequency'].max()\ndf['CPU_frequency'] = df['CPU_frequency'] / max_cpu_frequency\n\n# Display the data frame with the normalized 'CPU_frequency' values\nprint(df)",
      "metadata": {
        "trusted": true
      },
      "outputs": [
        {
          "name": "stdout",
          "text": "     Unnamed: 0 Manufacturer  Category     Screen  GPU  OS  CPU_core  \\\n0             0         Acer         4  IPS Panel    2   1         5   \n1             1         Dell         3    Full HD    1   1         3   \n2             2         Dell         3    Full HD    1   1         7   \n3             3         Dell         4  IPS Panel    2   1         5   \n4             4           HP         4    Full HD    2   1         7   \n..          ...          ...       ...        ...  ...  ..       ...   \n233         233       Lenovo         4  IPS Panel    2   1         7   \n234         234      Toshiba         3    Full HD    2   1         5   \n235         235       Lenovo         4  IPS Panel    2   1         5   \n236         236       Lenovo         3    Full HD    3   1         5   \n237         237      Toshiba         3    Full HD    2   1         5   \n\n     CPU_frequency  RAM_GB  Storage_GB_SSD  Price  Screen_Size_inch  \\\n0         0.551724       8             256    978         14.000008   \n1         0.689655       4             256    634         15.600008   \n2         0.931034       8             256    946         15.600008   \n3         0.551724       8             128   1244         13.300007   \n4         0.620690       8             256    837         15.600008   \n..             ...     ...             ...    ...               ...   \n233       0.896552       8             256   1891         14.000008   \n234       0.827586       8             256   1950         13.300007   \n235       0.896552       8             256   2236         12.000006   \n236       0.862069       6             256    883         15.600008   \n237       0.793103       8             256   1499         14.000008   \n\n     Weight_pounds  \n0         3.527392  \n1         4.850164  \n2         4.850164  \n3         2.689636  \n4         4.210824  \n..             ...  \n233       3.747854  \n234       2.645544  \n235       2.998283  \n236       5.291088  \n237       4.299009  \n\n[238 rows x 13 columns]\n",
          "output_type": "stream"
        }
      ],
      "execution_count": 16
    },
    {
      "cell_type": "code",
      "source": "# Convert 'Screen' into indicator variables and append them to the original data frame\ndf1 = pd.get_dummies(df['Screen'], prefix='Screen')\ndf = pd.concat([df, df1], axis=1)\n\n# Drop the original 'Screen' attribute from the data frame\ndf.drop('Screen', axis=1, inplace=True)\n\n# Display the updated data frame with indicator variables\nprint(df)",
      "metadata": {
        "trusted": true
      },
      "outputs": [
        {
          "name": "stdout",
          "text": "     Unnamed: 0 Manufacturer  Category  GPU  OS  CPU_core  CPU_frequency  \\\n0             0         Acer         4    2   1         5       0.551724   \n1             1         Dell         3    1   1         3       0.689655   \n2             2         Dell         3    1   1         7       0.931034   \n3             3         Dell         4    2   1         5       0.551724   \n4             4           HP         4    2   1         7       0.620690   \n..          ...          ...       ...  ...  ..       ...            ...   \n233         233       Lenovo         4    2   1         7       0.896552   \n234         234      Toshiba         3    2   1         5       0.827586   \n235         235       Lenovo         4    2   1         5       0.896552   \n236         236       Lenovo         3    3   1         5       0.862069   \n237         237      Toshiba         3    2   1         5       0.793103   \n\n     RAM_GB  Storage_GB_SSD  Price  Screen_Size_inch  Weight_pounds  \\\n0         8             256    978         14.000008       3.527392   \n1         4             256    634         15.600008       4.850164   \n2         8             256    946         15.600008       4.850164   \n3         8             128   1244         13.300007       2.689636   \n4         8             256    837         15.600008       4.210824   \n..      ...             ...    ...               ...            ...   \n233       8             256   1891         14.000008       3.747854   \n234       8             256   1950         13.300007       2.645544   \n235       8             256   2236         12.000006       2.998283   \n236       6             256    883         15.600008       5.291088   \n237       8             256   1499         14.000008       4.299009   \n\n     Screen_Full HD  Screen_IPS Panel  \n0             False              True  \n1              True             False  \n2              True             False  \n3             False              True  \n4              True             False  \n..              ...               ...  \n233           False              True  \n234            True             False  \n235           False              True  \n236            True             False  \n237            True             False  \n\n[238 rows x 14 columns]\n",
          "output_type": "stream"
        }
      ],
      "execution_count": 17
    },
    {
      "cell_type": "markdown",
      "source": "## Authors\n",
      "metadata": {}
    },
    {
      "cell_type": "markdown",
      "source": "[Abhishek Gagneja](https://www.linkedin.com/in/abhishek-gagneja-23051987/)\n",
      "metadata": {}
    },
    {
      "cell_type": "markdown",
      "source": "## Change Log\n",
      "metadata": {}
    },
    {
      "cell_type": "markdown",
      "source": "|Date (YYYY-MM-DD)|Version|Changed By|Change Description|\n|-|-|-|-|\n|2023-12-10|0.1|Abhishek Gagneja|Initial Draft created|\n",
      "metadata": {}
    },
    {
      "cell_type": "markdown",
      "source": "Copyright © 2023 IBM Corporation. All rights reserved.\n",
      "metadata": {}
    }
  ]
}